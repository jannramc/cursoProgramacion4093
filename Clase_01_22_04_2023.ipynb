{
  "nbformat": 4,
  "nbformat_minor": 0,
  "metadata": {
    "colab": {
      "provenance": [],
      "toc_visible": true
    },
    "kernelspec": {
      "name": "python3",
      "display_name": "Python 3"
    },
    "language_info": {
      "name": "python"
    }
  },
  "cells": [
    {
      "cell_type": "code",
      "source": [
        "print (\"hola mundo\")"
      ],
      "metadata": {
        "colab": {
          "base_uri": "https://localhost:8080/"
        },
        "id": "HcUei6ewHyJV",
        "outputId": "f135f99a-ec45-491f-c2c4-af81460e5c84"
      },
      "execution_count": null,
      "outputs": [
        {
          "output_type": "stream",
          "name": "stdout",
          "text": [
            "hola mundo\n"
          ]
        }
      ]
    },
    {
      "cell_type": "markdown",
      "source": [
        "Variables o identificadores"
      ],
      "metadata": {
        "id": "3Q8O0mLxITtC"
      }
    },
    {
      "cell_type": "code",
      "source": [
        "nombreP = \"Janneth Ramirez\"\n",
        "print (nombreP)\n",
        "edad = \"43\"\n",
        "print (edad)"
      ],
      "metadata": {
        "colab": {
          "base_uri": "https://localhost:8080/"
        },
        "id": "W9pqgpswIXCL",
        "outputId": "a95a6164-13c9-47ff-f5c3-e3c0920d132d"
      },
      "execution_count": null,
      "outputs": [
        {
          "output_type": "stream",
          "name": "stdout",
          "text": [
            "Janneth Ramirez\n",
            "43\n"
          ]
        }
      ]
    },
    {
      "cell_type": "code",
      "source": [
        "edad=34\n",
        "print(edad)\n",
        "edad=\"Kabir\"\n",
        "print (edad)"
      ],
      "metadata": {
        "colab": {
          "base_uri": "https://localhost:8080/"
        },
        "id": "-l66GXdqJZBz",
        "outputId": "778dd20d-17b3-4c2d-ef22-1582f28be1e7"
      },
      "execution_count": null,
      "outputs": [
        {
          "output_type": "stream",
          "name": "stdout",
          "text": [
            "34\n",
            "Kabir\n"
          ]
        }
      ]
    },
    {
      "cell_type": "code",
      "source": [
        "valor=True\n",
        "print(valor)"
      ],
      "metadata": {
        "colab": {
          "base_uri": "https://localhost:8080/"
        },
        "id": "-ll4eF2EKIlq",
        "outputId": "aca2cc1c-5e00-4642-f2b3-18f6b8438e1f"
      },
      "execution_count": null,
      "outputs": [
        {
          "output_type": "stream",
          "name": "stdout",
          "text": [
            "True\n"
          ]
        }
      ]
    },
    {
      "cell_type": "code",
      "source": [
        "nombreP=\"Karen\"\n",
        "apellido=\"Perez\"\n",
        "print (nombreP +\" \"+ apellido)"
      ],
      "metadata": {
        "colab": {
          "base_uri": "https://localhost:8080/"
        },
        "id": "yLT_CqSKKOmo",
        "outputId": "1806912d-024e-4106-f181-7abb05cd8b01"
      },
      "execution_count": null,
      "outputs": [
        {
          "output_type": "stream",
          "name": "stdout",
          "text": [
            "Karen Perez\n"
          ]
        }
      ]
    },
    {
      "cell_type": "markdown",
      "source": [
        "COMENTARIOS\n",
        "Se usan para hacer documentación del código o  para hacer pruebas. Se usa el simbolo #"
      ],
      "metadata": {
        "id": "Rdq4Bi7qK7hW"
      }
    },
    {
      "cell_type": "code",
      "source": [
        "# variable para almacenar el teléfono del cliente\n",
        "telefonoC=2380685\n",
        "profesion=\"Médico\"\n",
        "print (telefonoC) # visualiza por pantalla la variable\n",
        "print (profesion) # visualiza por pantalla la variable"
      ],
      "metadata": {
        "colab": {
          "base_uri": "https://localhost:8080/"
        },
        "id": "CkndJ112LDms",
        "outputId": "db6e7cdd-8a1b-408a-c747-965d28e92746"
      },
      "execution_count": null,
      "outputs": [
        {
          "output_type": "stream",
          "name": "stdout",
          "text": [
            "Médico\n"
          ]
        }
      ]
    },
    {
      "cell_type": "markdown",
      "source": [
        "Captura de datos por teclado"
      ],
      "metadata": {
        "id": "g0Udo3aDMZOa"
      }
    },
    {
      "cell_type": "code",
      "source": [
        "nombreP=input(\"Digite su nombre y apellido:\")\n",
        "print (nombreP)"
      ],
      "metadata": {
        "colab": {
          "base_uri": "https://localhost:8080/"
        },
        "id": "ZO4p42e2MbZQ",
        "outputId": "407a0e0e-a54d-482d-9526-fd10941a338e"
      },
      "execution_count": null,
      "outputs": [
        {
          "output_type": "stream",
          "name": "stdout",
          "text": [
            "Digite su nombre y apellido:Karla Shimu\n",
            "Karla Shimu\n"
          ]
        }
      ]
    },
    {
      "cell_type": "markdown",
      "source": [
        "**Taller**\n",
        "\n",
        "No de Identificación, Nombres, Apellidos, Dirección, Teléfono, Edad, Estado Civil, Número de hijos, Estatura en centímetros, fecha de contratación (Día/mes/año), Sueldo básico, Días Laborados."
      ],
      "metadata": {
        "id": "VTj9pQbKN2od"
      }
    },
    {
      "cell_type": "code",
      "source": [
        "noIdentificacion = 41676230\n",
        "nombres= \"Knela María\"\n",
        "apellidos=\"Ramírez Contreras\"\n",
        "direccion=\"Avda Boyaca Cll 56a sur # 27 - 75\"\n",
        "telefono = 3156599073\n",
        "edad = 34\n",
        "estado_civil= \"Soltera\"\n",
        "num_Hijos = 0\n",
        "estatura = 1,68\n",
        "fecContratacion = \"07/07/2020\"\n",
        "Sueldo_basico =5650000\n",
        "Dias_Lab=30\n",
        "print  (noIdentificacion) \n",
        "print ( \"Nombres y Apellidos: \" + nombres + \" \"+ apellidos)\n",
        "print ( direccion)  \n",
        "print (telefono)  \n",
        "print (edad) \n",
        "print (\"Estado Civil: \"+ estado_civil)\n",
        "print (num_Hijos)\n",
        "print (estatura)\n",
        "print (fecContratacion)\n",
        "print (Sueldo_basico)\n",
        "print (Dias_Lab)"
      ],
      "metadata": {
        "colab": {
          "base_uri": "https://localhost:8080/"
        },
        "id": "iCLC5_JTOG8f",
        "outputId": "178deea5-1e03-4ba5-b016-05b97a51c011"
      },
      "execution_count": null,
      "outputs": [
        {
          "output_type": "stream",
          "name": "stdout",
          "text": [
            "41676230\n",
            "Nombres y Apellidos: Knela María Ramírez Contreras\n",
            "Avda Boyaca Cll 56a sur # 27 - 75\n",
            "3156599073\n",
            "34\n",
            "Estado Civil: Soltera\n",
            "0\n",
            "(1, 68)\n",
            "07/07/2020\n",
            "5650000\n",
            "30\n"
          ]
        }
      ]
    },
    {
      "cell_type": "code",
      "source": [
        "noIdentificacion =input(\"Digite su número de identificación:\")\n",
        "print  (noIdentificacion) \n",
        "nombres= input(\"Digite su nombre:\")\n",
        "apellidos=input(\"Digite su apellido:\")\n",
        "print ( nombres + \" \"+ apellidos)\n",
        "direccion=input(\"Digite su dirección:\")\n",
        "print ( direccion)  \n",
        "telefono =input(\"Digite su teléfono:\")\n",
        "print (telefono)  \n",
        "edad = input(\"Digite su edad:\")\n",
        "print (edad) \n",
        "estado_civil= input(\"Digite su estado civil:\")\n",
        "print ( estado_civil)\n",
        "num_Hijos =input(\"Digite su número de hijos:\")e\n",
        "print (num_Hijos)\n",
        "estatura = input(\"Digite su estatura (cm):\")\n",
        "print (estatura)\n",
        "FecContratacion = input(\"Digite su fecha de contratación:\")\n",
        "print (FecContratacion)\n",
        "Sueldo_basico =input(\"Digite su sueldo básico:\")\n",
        "print (Sueldo_basico)\n",
        "Dias_Lab=input(\"Digite sus dias laborados:\")\n",
        "print (Dias_Lab)"
      ],
      "metadata": {
        "colab": {
          "base_uri": "https://localhost:8080/"
        },
        "id": "hpBlm39IctGm",
        "outputId": "ac8567a4-e393-404b-86f7-584a5a710a80"
      },
      "execution_count": null,
      "outputs": [
        {
          "output_type": "stream",
          "name": "stdout",
          "text": [
            "Digite su número de identificación:\n",
            "\n",
            "Digite su nombre:e\n",
            "Digite su apellido:e\n",
            "e e\n",
            "Digite su dirección:\n",
            "\n",
            "Digite su teléfono:er\n",
            "er\n",
            "Digite su edad:retre\n",
            "retre\n",
            "Digite su estado civil:erter\n",
            "erter\n",
            "Digite su número de hijos:dfg\n",
            "dfg\n",
            "Digite su estatura (cm):etrg\n",
            "etrg\n",
            "Digite su fecha de contratación:reter\n",
            "reter\n",
            "Digite su sueldo básico:drtret\n",
            "drtret\n",
            "Digite sus dias laborados:retert\n",
            "retert\n"
          ]
        }
      ]
    }
  ]
}
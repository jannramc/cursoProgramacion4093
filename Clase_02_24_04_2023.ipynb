{
  "nbformat": 4,
  "nbformat_minor": 0,
  "metadata": {
    "colab": {
      "provenance": []
    },
    "kernelspec": {
      "name": "python3",
      "display_name": "Python 3"
    },
    "language_info": {
      "name": "python"
    }
  },
  "cells": [
    {
      "cell_type": "markdown",
      "source": [
        "OPERADORES MATEMATICOS"
      ],
      "metadata": {
        "id": "I_yBjsDEcTYr"
      }
    },
    {
      "cell_type": "code",
      "source": [
        "num1=4\n",
        "num2=5\n",
        "res = num1+num2\n",
        "print (res)"
      ],
      "metadata": {
        "colab": {
          "base_uri": "https://localhost:8080/"
        },
        "id": "1t2obeuHcXGX",
        "outputId": "fc1880e1-bf1c-4cb4-b157-bd2c09ff5b30"
      },
      "execution_count": null,
      "outputs": [
        {
          "output_type": "stream",
          "name": "stdout",
          "text": [
            "9\n"
          ]
        }
      ]
    },
    {
      "cell_type": "code",
      "source": [
        "# Por defecto la función Input()  maneja datos tipos str (string)\n",
        "num1= input(\"Digite primer número:\")\n",
        "num2= input (\"Digite número 2: \")\n",
        "res = num1+num2  #esta concatenando\n",
        "print (res)"
      ],
      "metadata": {
        "colab": {
          "base_uri": "https://localhost:8080/"
        },
        "id": "zIE8woEdc0mh",
        "outputId": "b3603c98-e0e9-4ed0-815f-239d96330868"
      },
      "execution_count": null,
      "outputs": [
        {
          "output_type": "stream",
          "name": "stdout",
          "text": [
            "Digite número 1:5\n",
            "Digite número 2: 2\n",
            "52\n"
          ]
        }
      ]
    },
    {
      "cell_type": "code",
      "source": [
        "num1= int(input(\"Digite primer número: \"))\n",
        "num2= int(input (\"Digite número 2: \"))\n",
        "res = num1+num2  #esta concatenando\n",
        "print (res)"
      ],
      "metadata": {
        "colab": {
          "base_uri": "https://localhost:8080/"
        },
        "id": "DlvOUigZdeY3",
        "outputId": "41e4092d-a9d9-49e4-d9e8-4999df7ef9ce"
      },
      "execution_count": null,
      "outputs": [
        {
          "output_type": "stream",
          "name": "stdout",
          "text": [
            "Digite primer número: 4\n",
            "Digite número 2: 7\n",
            "11\n"
          ]
        }
      ]
    },
    {
      "cell_type": "code",
      "source": [
        "num1= int(input(\"Digite primer número: \"))\n",
        "num2= int(input (\"Digite número 2: \"))\n",
        "res = num1+num2  #esta concatenando\n",
        "print (res)"
      ],
      "metadata": {
        "colab": {
          "base_uri": "https://localhost:8080/",
          "height": 253
        },
        "id": "HoR5GXFCdzKu",
        "outputId": "7c6fbfe1-28c3-49aa-9080-31d10a3ce40a"
      },
      "execution_count": null,
      "outputs": [
        {
          "name": "stdout",
          "output_type": "stream",
          "text": [
            "Digite primer número: 67\n",
            "Digite número 2: carlos\n"
          ]
        },
        {
          "output_type": "error",
          "ename": "ValueError",
          "evalue": "ignored",
          "traceback": [
            "\u001b[0;31m---------------------------------------------------------------------------\u001b[0m",
            "\u001b[0;31mValueError\u001b[0m                                Traceback (most recent call last)",
            "\u001b[0;32m<ipython-input-5-5ce8b73c0b26>\u001b[0m in \u001b[0;36m<cell line: 2>\u001b[0;34m()\u001b[0m\n\u001b[1;32m      1\u001b[0m \u001b[0mnum1\u001b[0m\u001b[0;34m=\u001b[0m \u001b[0mint\u001b[0m\u001b[0;34m(\u001b[0m\u001b[0minput\u001b[0m\u001b[0;34m(\u001b[0m\u001b[0;34m\"Digite primer número: \"\u001b[0m\u001b[0;34m)\u001b[0m\u001b[0;34m)\u001b[0m\u001b[0;34m\u001b[0m\u001b[0;34m\u001b[0m\u001b[0m\n\u001b[0;32m----> 2\u001b[0;31m \u001b[0mnum2\u001b[0m\u001b[0;34m=\u001b[0m \u001b[0mint\u001b[0m\u001b[0;34m(\u001b[0m\u001b[0minput\u001b[0m \u001b[0;34m(\u001b[0m\u001b[0;34m\"Digite número 2: \"\u001b[0m\u001b[0;34m)\u001b[0m\u001b[0;34m)\u001b[0m\u001b[0;34m\u001b[0m\u001b[0;34m\u001b[0m\u001b[0m\n\u001b[0m\u001b[1;32m      3\u001b[0m \u001b[0mres\u001b[0m \u001b[0;34m=\u001b[0m \u001b[0mnum1\u001b[0m\u001b[0;34m+\u001b[0m\u001b[0mnum2\u001b[0m  \u001b[0;31m#esta concatenando\u001b[0m\u001b[0;34m\u001b[0m\u001b[0;34m\u001b[0m\u001b[0m\n\u001b[1;32m      4\u001b[0m \u001b[0mprint\u001b[0m \u001b[0;34m(\u001b[0m\u001b[0mres\u001b[0m\u001b[0;34m)\u001b[0m\u001b[0;34m\u001b[0m\u001b[0;34m\u001b[0m\u001b[0m\n",
            "\u001b[0;31mValueError\u001b[0m: invalid literal for int() with base 10: 'carlos'"
          ]
        }
      ]
    },
    {
      "cell_type": "code",
      "source": [
        "num1= float(input(\"Digite primer número: \"))\n",
        "num2= float(input (\"Digite número 2: \"))\n",
        "res = num1+num2  #esta concatenando\n",
        "print (res)"
      ],
      "metadata": {
        "colab": {
          "base_uri": "https://localhost:8080/"
        },
        "id": "dJE2eRGFewV_",
        "outputId": "1dba4776-6f2b-493c-a50b-c6c90fb62b10"
      },
      "execution_count": null,
      "outputs": [
        {
          "output_type": "stream",
          "name": "stdout",
          "text": [
            "Digite primer número: 4.5\n",
            "Digite número 2: 6.7\n",
            "11.2\n"
          ]
        }
      ]
    },
    {
      "cell_type": "markdown",
      "source": [
        "Se puede dar formato a la salida del print por medio de .FORMAT\n",
        "\n",
        "print (\"La suma es  = \" ,format(res))  tambien es otra forma."
      ],
      "metadata": {
        "id": "8TjnOeAXfmZw"
      }
    },
    {
      "cell_type": "code",
      "source": [
        "num1= int(input(\"Digite primer número: \"))\n",
        "num2= int(input (\"Digite número 2: \"))\n",
        "\n",
        "res = num1 + num2\n",
        "print (\"La suma es  =  {}\" .format(res))"
      ],
      "metadata": {
        "colab": {
          "base_uri": "https://localhost:8080/"
        },
        "id": "lpy4IEWXesYi",
        "outputId": "20aaef7f-42f9-41ea-cefc-ad1deabafc03"
      },
      "execution_count": null,
      "outputs": [
        {
          "output_type": "stream",
          "name": "stdout",
          "text": [
            "Digite primer número: 7\n",
            "Digite número 2: 8\n",
            "La suma es  =  15\n"
          ]
        }
      ]
    },
    {
      "cell_type": "code",
      "source": [
        "num1= int(input(\"Digite primer número: \"))\n",
        "num2= int(input (\"Digite número 2: \"))\n",
        "\n",
        "res = num1 + num2\n",
        "print (\"La suma de {} y {} es  =  {}\" .format(num1, num2, res))"
      ],
      "metadata": {
        "colab": {
          "base_uri": "https://localhost:8080/"
        },
        "id": "gtosdcSOmCJF",
        "outputId": "daa8b351-6d3d-4c1b-b726-eefceaf0ecbb"
      },
      "execution_count": null,
      "outputs": [
        {
          "output_type": "stream",
          "name": "stdout",
          "text": [
            "Digite primer número: 35\n",
            "Digite número 2: 43\n",
            "La suma de 35 y 43 es  =  78\n"
          ]
        }
      ]
    },
    {
      "cell_type": "code",
      "source": [
        "#Forma abreviada de format\n",
        "num1= int(input(\"Digite primer número: \"))\n",
        "num2= int(input (\"Digite número 2: \"))\n",
        "\n",
        "res = num1 + num2\n",
        "print (f\"La suma de {num1} y {num2} es  =  {res}\")"
      ],
      "metadata": {
        "colab": {
          "base_uri": "https://localhost:8080/"
        },
        "id": "ztIeB0O_n2OL",
        "outputId": "abd647d8-4ad8-4beb-ae99-e2bb44707de6"
      },
      "execution_count": null,
      "outputs": [
        {
          "output_type": "stream",
          "name": "stdout",
          "text": [
            "Digite primer número: 35\n",
            "Digite número 2: 43\n",
            "La suma de 35 y 43 es  =  78\n"
          ]
        }
      ]
    },
    {
      "cell_type": "markdown",
      "source": [
        "**CALCULADORA**"
      ],
      "metadata": {
        "id": "9lwn17feoPb-"
      }
    },
    {
      "cell_type": "code",
      "source": [
        "num1= int(input(\"Digite primer número: \"))\n",
        "num2= int(input (\"Digite número 2: \"))\n",
        "\n",
        "suma=num1+num2\n",
        "resta=num1-num2\n",
        "mult=num1 * num2\n",
        "divi=num1 / num2\n",
        "\n",
        "print (\"\\nEl resultado de la SUMA es  =  {}\" .format(suma)) #\\n para salto de línea\n",
        "print (\"\\nEl resultado de la RESTA es  =  {}\" .format(resta))\n",
        "print (f\"\\nEl resultado de la MULTIPLICACIÓN es  =  {mult}\")\n",
        "print (f\"\\nEl resultado de la DIVISIÓN es  =  {divi}\")"
      ],
      "metadata": {
        "colab": {
          "base_uri": "https://localhost:8080/"
        },
        "id": "OjMM-y-moRxI",
        "outputId": "0b66126b-d481-432f-c5b0-b7b0f26dcb29"
      },
      "execution_count": null,
      "outputs": [
        {
          "output_type": "stream",
          "name": "stdout",
          "text": [
            "Digite primer número: 20\n",
            "Digite número 2: 4\n",
            "\n",
            "El resultado de la SUMA es  =  24\n",
            "\n",
            "El resultado de la RESTA es  =  16\n",
            "\n",
            "El resultado de la MULTIPLICACIÓN es  =  80\n",
            "\n",
            "El resultado de la DIVISION es  =  5.0\n"
          ]
        }
      ]
    },
    {
      "cell_type": "markdown",
      "source": [
        "Se recibe una venta por concepto de un producto se requiere aplicar el IVA (19%) y conocer el total a pagar con el IVA Incluido"
      ],
      "metadata": {
        "id": "ZqT80CPfql8A"
      }
    },
    {
      "cell_type": "code",
      "source": [
        "#Variable para capturar el valor de la venta\n",
        "venta= float(input(\"Digite total de la compra: \"))\n",
        "#Calculo del iva sobre la venta\n",
        "iva=venta*0.19\n",
        "#Total más el IVA\n",
        "total=venta+iva\n",
        "print (\"El IVA es igual a ${} y el total a pagar es ${}\".format(iva, total))"
      ],
      "metadata": {
        "colab": {
          "base_uri": "https://localhost:8080/"
        },
        "id": "beIcR3cuqnfe",
        "outputId": "32921141-14ce-4ed6-d707-105714e88c54"
      },
      "execution_count": null,
      "outputs": [
        {
          "output_type": "stream",
          "name": "stdout",
          "text": [
            "Digite total de la compra: 34500\n",
            "El IVA es igual a $6555.0 y el total a pagar es $41055.0\n"
          ]
        }
      ]
    },
    {
      "cell_type": "markdown",
      "source": [
        "## **Uso de máscaras de salida para los valores**\n"
      ],
      "metadata": {
        "id": "OfCphF1vrzeo"
      }
    },
    {
      "cell_type": "code",
      "source": [
        "#Variable para capturar el valor de la venta\n",
        "venta= float(input(\"Digite total de la compra: \"))\n",
        "#Calculo del iva sobre la venta\n",
        "iva=venta*0.19\n",
        "#Total más el IVA\n",
        "total=venta+iva\n",
        "print (\"El IVA es ${:,.0f} y el total a pagar es ${:,.0f}\".format(iva, total))"
      ],
      "metadata": {
        "colab": {
          "base_uri": "https://localhost:8080/"
        },
        "id": "PuhdTb7Hr1i5",
        "outputId": "3c08db44-cd2a-4552-e3b6-bdf76bb93ac5"
      },
      "execution_count": null,
      "outputs": [
        {
          "output_type": "stream",
          "name": "stdout",
          "text": [
            "Digite total de la compra: 34500\n",
            "El IVA es $6,555 y el total a pagar es $41,055\n"
          ]
        }
      ]
    },
    {
      "cell_type": "markdown",
      "source": [
        "### **Cambiar la cantidad de decimales**"
      ],
      "metadata": {
        "id": "MlQZjxNSsp8B"
      }
    },
    {
      "cell_type": "code",
      "source": [
        "#Variable para capturar el valor de la venta\n",
        "venta= float(input(\"Digite total de la compra: \"))\n",
        "#Calculo del iva sobre la venta\n",
        "iva=venta*0.19\n",
        "#Total más el IVA\n",
        "total=venta+iva\n",
        "print (\"El IVA es ${:,.2f} y el total a pagar es ${:,.4f}\".format(iva, total))"
      ],
      "metadata": {
        "colab": {
          "base_uri": "https://localhost:8080/"
        },
        "id": "g4wyUrVsst8f",
        "outputId": "8f2ff7b9-7a29-4fbb-f3fa-e6496696821a"
      },
      "execution_count": null,
      "outputs": [
        {
          "output_type": "stream",
          "name": "stdout",
          "text": [
            "Digite total de la compra: 34500\n",
            "El IVA es $6,555.00 y el total a pagar es $41,055.0000\n"
          ]
        }
      ]
    },
    {
      "cell_type": "markdown",
      "source": [
        "Se requiere conocer el promedio general de una materia que está dada por tres calificaciones"
      ],
      "metadata": {
        "id": "pq3Yh008tCNG"
      }
    },
    {
      "cell_type": "code",
      "source": [
        "not1 = float(input(\"Digite la calificación 1: \"))\n",
        "not2 = float(input(\"Digite la calificación 2: \"))\n",
        "not3 = float(input(\"Digite la calificación 3: \"))\n",
        "\n",
        "prom = round( (not1 +not2 + not3)/3,  2)\n",
        "\n",
        "print(f\"El promedio de las calificaciones ingresadas es = {prom}\")"
      ],
      "metadata": {
        "colab": {
          "base_uri": "https://localhost:8080/"
        },
        "id": "8aaAN458tDW4",
        "outputId": "b29caa37-84d8-434c-917c-835f59b5d95a"
      },
      "execution_count": null,
      "outputs": [
        {
          "output_type": "stream",
          "name": "stdout",
          "text": [
            "Digite la calificación 1: 4.5\n",
            "Digite la calificación 2: 3.5\n",
            "Digite la calificación 3: 4.8\n",
            "El promedio de las calificaciones ingresadas es = 4.27\n"
          ]
        }
      ]
    },
    {
      "cell_type": "markdown",
      "source": [
        "# **TALLER # 2** - **OPERADORES MATEMÁTICOS**"
      ],
      "metadata": {
        "id": "nG6SftvJtr1A"
      }
    },
    {
      "cell_type": "markdown",
      "source": [
        "Un vendedor recibe un sueldo base más un 10% extra por\n",
        "comisión de sus ventas, el vendedor desea saber cuánto\n",
        "dinero obtendrá por concepto de comisiones por las tres\n",
        "ventas que realiza en el mes y el total que recibirá en\n",
        "el mes tomando en cuenta su sueldo base y comisiones."
      ],
      "metadata": {
        "id": "Rz1SUYBIt2w_"
      }
    },
    {
      "cell_type": "code",
      "source": [
        "sueldobase= float(input(\"Digite sueldo base: \"))\n",
        "cantvent=float(input(\"Cantidad ventas del mes: \"))\n",
        "comi=(sueldobase*0.10)*cantvent\n",
        "#Total sueldo base + comisión por ventas\n",
        "total=sueldobase+comi\n",
        "print (\"Total de comisión es ${:,.0f} y el total a pagar es ${:,.0f}\".format(comi, total))"
      ],
      "metadata": {
        "colab": {
          "base_uri": "https://localhost:8080/"
        },
        "id": "9Aq5MqFvt-xE",
        "outputId": "70f221b2-3ea4-4fff-80c3-b1efa4d7ec9e"
      },
      "execution_count": null,
      "outputs": [
        {
          "output_type": "stream",
          "name": "stdout",
          "text": [
            "Digite sueldo base: 2853000\n",
            "Cantidad ventas del mes: 3\n",
            "Total de comisión es $855,900 y el total a pagar es $3,708,900\n"
          ]
        }
      ]
    },
    {
      "cell_type": "markdown",
      "source": [
        "Una tienda ofrece un descuento del 15% sobre el total\n",
        "de la compra y un cliente desea saber cuánto deberá\n",
        "pagar finalmente por su compra."
      ],
      "metadata": {
        "id": "hO5d1lKQt3Yc"
      }
    },
    {
      "cell_type": "code",
      "source": [
        "valcompra= float(input(\"Digite el valor de la compra: \"))\n",
        "desc=valcompra*0.15\n",
        "#Total menos descuento\n",
        "total=valcompra - desc\n",
        "print (\"El descuento es ${:,.0f} y el total a pagar es ${:,.0f}\".format(desc, total))"
      ],
      "metadata": {
        "colab": {
          "base_uri": "https://localhost:8080/"
        },
        "id": "26tmR1i-uDSu",
        "outputId": "0d948de7-3d06-47f5-c488-3d5a9e0b38a9"
      },
      "execution_count": null,
      "outputs": [
        {
          "output_type": "stream",
          "name": "stdout",
          "text": [
            "Digite el valor de la compra: 650000\n",
            "El descuento es $97,500 y el total a pagar es $552,500\n"
          ]
        }
      ]
    },
    {
      "cell_type": "markdown",
      "source": [
        "Un alumno desea saber cuál será su calificación final en\n",
        "la materia de Algoritmos. Dicha calificación se compone\n",
        "de tres exámenes parciales."
      ],
      "metadata": {
        "id": "yLvFPgbxt3k-"
      }
    },
    {
      "cell_type": "code",
      "source": [
        "not1 = float(input(\"Digite la examén 1: \"))\n",
        "not2 = float(input(\"Digite la examén 2: \"))\n",
        "not3 = float(input(\"Digite la examén 3: \"))\n",
        "\n",
        "prom = round( (not1 +not2 + not3)/3,  2)  #redondear el valor\n",
        "\n",
        "print(f\"La calificación final es {prom}\")"
      ],
      "metadata": {
        "colab": {
          "base_uri": "https://localhost:8080/"
        },
        "id": "J6YRhNfXuGC4",
        "outputId": "9b7fef7e-3794-4bc8-f6b1-32b8698a6746"
      },
      "execution_count": null,
      "outputs": [
        {
          "output_type": "stream",
          "name": "stdout",
          "text": [
            "Digite la examén 1: 4.3\n",
            "Digite la examén 2: 2.3\n",
            "Digite la examén 3: 3.3\n",
            "La calificación final es 3.3\n"
          ]
        }
      ]
    },
    {
      "cell_type": "markdown",
      "source": [
        "Un maestro desea saber qué porcentaje de hombres y que\n",
        "porcentaje de mujeres hay en un grupo de estudiantes."
      ],
      "metadata": {
        "id": "lRJ19LCGt3xk"
      }
    },
    {
      "cell_type": "code",
      "source": [
        "t_estudiantes = float(input(\"Digite el total de estudiantes: \"))\n",
        "hom = float(input(\"Digite cantidad de hombres: \"))\n",
        "\n",
        "muj= t_estudiantes-hom #cantidad de mujeres\n",
        "porch = round( (hom*100)/t_estudiantes,  4)\n",
        "porcm = round( (muj*100)/t_estudiantes,  4)\n",
        "\n",
        "print(f\"El porcentaje de hombres es {porch } y el porcentaje de mujeres es {porcm}\")"
      ],
      "metadata": {
        "colab": {
          "base_uri": "https://localhost:8080/"
        },
        "id": "8L81-OJuuIb5",
        "outputId": "89e6146f-68ce-4674-8be1-87b3c38f542a"
      },
      "execution_count": null,
      "outputs": [
        {
          "output_type": "stream",
          "name": "stdout",
          "text": [
            "Digite el total de estudiantes: 150\n",
            "Digite cantidad de hombres: 70\n",
            "El porcentaje de hombres es 46.6667 y el porcentaje de mujeres es 53.3333\n"
          ]
        }
      ]
    }
  ]
}
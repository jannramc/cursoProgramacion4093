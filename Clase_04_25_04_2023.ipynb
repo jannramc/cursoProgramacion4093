{
  "nbformat": 4,
  "nbformat_minor": 0,
  "metadata": {
    "colab": {
      "provenance": [],
      "authorship_tag": "ABX9TyO1gTbFjPRlFt0xFP0PreMi",
      "include_colab_link": true
    },
    "kernelspec": {
      "name": "python3",
      "display_name": "Python 3"
    },
    "language_info": {
      "name": "python"
    }
  },
  "cells": [
    {
      "cell_type": "markdown",
      "metadata": {
        "id": "view-in-github",
        "colab_type": "text"
      },
      "source": [
        "<a href=\"https://colab.research.google.com/github/jannramc/cursoProgramacion4093/blob/main/Clase_04_25_04_2023.ipynb\" target=\"_parent\"><img src=\"https://colab.research.google.com/assets/colab-badge.svg\" alt=\"Open In Colab\"/></a>"
      ]
    },
    {
      "cell_type": "markdown",
      "source": [
        "## **SENTENCIAS CONDICIONALES**"
      ],
      "metadata": {
        "id": "soh6O6mBqMG_"
      }
    },
    {
      "cell_type": "code",
      "source": [
        "num1 =8\n",
        "num2 = 6\n",
        "\n",
        "if num1 == num2:\n",
        "  print (\"Los números son iguales\")\n",
        "else:\n",
        "    print(\"Los números no son iguales\")"
      ],
      "metadata": {
        "id": "H2-JNQVd2oay",
        "colab": {
          "base_uri": "https://localhost:8080/"
        },
        "outputId": "92c1a393-d5eb-4547-de74-be3567073534"
      },
      "execution_count": null,
      "outputs": [
        {
          "output_type": "stream",
          "name": "stdout",
          "text": [
            "Los números no son iguales\n"
          ]
        }
      ]
    },
    {
      "cell_type": "code",
      "source": [
        "num1 =8\n",
        "num2 = 8\n",
        "\n",
        "if num1 == num2:\n",
        "  print (\"Los números son iguales\")\n",
        "else:\n",
        "    print(\"Los números no son iguales\")"
      ],
      "metadata": {
        "colab": {
          "base_uri": "https://localhost:8080/"
        },
        "id": "5PHs-GD9vIt8",
        "outputId": "d51d9f8e-cf3f-4907-edfe-56df2eae7af3"
      },
      "execution_count": null,
      "outputs": [
        {
          "output_type": "stream",
          "name": "stdout",
          "text": [
            "Los números son iguales\n"
          ]
        }
      ]
    },
    {
      "cell_type": "code",
      "source": [
        "num1 =8\n",
        "num2 = 8\n",
        "\n",
        "if num1 == num2:\n",
        "  print (\"Los números son iguales\")\n",
        "else:\n",
        "    print(\"Los números no son iguales\")\n",
        "print(\"Esta instrucción esta por fuera del IF\")"
      ],
      "metadata": {
        "colab": {
          "base_uri": "https://localhost:8080/"
        },
        "id": "8tY-uaFSv1qT",
        "outputId": "c3445507-575f-4461-f6b9-099c7b00a627"
      },
      "execution_count": null,
      "outputs": [
        {
          "output_type": "stream",
          "name": "stdout",
          "text": [
            "Los números son iguales\n",
            "Esta instrucción esta por fuera del IF\n"
          ]
        }
      ]
    },
    {
      "cell_type": "markdown",
      "source": [
        "# **OPERADORES RELACIONALES**\n",
        "\n",
        " \">\" mayor que, \"<\" menor que, \">=\" mayor o igual que, \"<=\" menor o igual que, \"==\" igual que, \"!=\" diferente que,ambos debe ser iguales and, uno de los debe ser verdadero or, in texto inmerso en otro."
      ],
      "metadata": {
        "id": "_6lcA5DSwXKF"
      }
    },
    {
      "cell_type": "code",
      "source": [
        "num  = int (input(\"Digite el número \"))\n",
        "\n",
        "if num >20:\n",
        "  print(\"El número es mayor a 20\")\n",
        "elif num >15:\n",
        "  print(\"El numero es mayor a 15\")\n",
        "elif num > 10:\n",
        "  print(\"El número es mayor a 10\")\n",
        "elif num > 5:\n",
        "  print(\"El número es mayor a 5\")\n",
        "else:\n",
        "  print(\"No cumple ninguna condición\")"
      ],
      "metadata": {
        "colab": {
          "base_uri": "https://localhost:8080/"
        },
        "id": "drIj1xBVxDnQ",
        "outputId": "c1a9ba22-7c5c-42b5-ff94-9b8a2e844f93"
      },
      "execution_count": null,
      "outputs": [
        {
          "output_type": "stream",
          "name": "stdout",
          "text": [
            "Digite el número 4\n",
            "No se cumple ninguna condición\n"
          ]
        }
      ]
    },
    {
      "cell_type": "code",
      "source": [
        "elif num > 10:\n",
        "  print(\"El número es mayor a 10\")\n",
        "elif num > 5:\n",
        "  print(\"El número es mayor a 5\")\n",
        "else:\n",
        "  print(\"No se cumple ninguna condición\")"
      ],
      "metadata": {
        "id": "QYhZlNye0R9I",
        "outputId": "66c2bdc7-b48d-4aa0-9a52-4096196658c1",
        "colab": {
          "base_uri": "https://localhost:8080/",
          "height": 132
        }
      },
      "execution_count": null,
      "outputs": [
        {
          "output_type": "error",
          "ename": "SyntaxError",
          "evalue": "ignored",
          "traceback": [
            "\u001b[0;36m  File \u001b[0;32m\"<ipython-input-1-a98bab4c2bc8>\"\u001b[0;36m, line \u001b[0;32m1\u001b[0m\n\u001b[0;31m    elif num > 10:\u001b[0m\n\u001b[0m    ^\u001b[0m\n\u001b[0;31mSyntaxError\u001b[0m\u001b[0;31m:\u001b[0m invalid syntax\n"
          ]
        }
      ]
    },
    {
      "cell_type": "code",
      "source": [
        "edad = int (input(\"Digite su edad: \"))\n",
        "if edad >= 13 and edad < 20:\n",
        "  print (\"Eres un adolescente\")\n",
        "else:\n",
        "    print (\"Eres un adulto\")"
      ],
      "metadata": {
        "id": "t2calxcd-Mku",
        "colab": {
          "base_uri": "https://localhost:8080/"
        },
        "outputId": "82f1a909-bf63-4b03-86de-3c56bef48b20"
      },
      "execution_count": 6,
      "outputs": [
        {
          "output_type": "stream",
          "name": "stdout",
          "text": [
            "Digite su edad: 18\n",
            "Eres un adolescente\n"
          ]
        }
      ]
    },
    {
      "cell_type": "code",
      "source": [
        "user =input (\"Digite su usuario: \")\n",
        "\n",
        "if user==\"Knela1301\":\n",
        "  print (\"Usuario CORRECTO!!\")\n",
        "else:\n",
        "  print (\"Usuario INCORRECTO :(\")"
      ],
      "metadata": {
        "id": "KEk8MV7J_4RS",
        "colab": {
          "base_uri": "https://localhost:8080/"
        },
        "outputId": "2d7afa34-b5c0-4ad9-95e3-896424d6b012"
      },
      "execution_count": 2,
      "outputs": [
        {
          "output_type": "stream",
          "name": "stdout",
          "text": [
            "Digite su usuario: Ottis1234\n",
            "Usuario INCORRECTO :(\n"
          ]
        }
      ]
    },
    {
      "cell_type": "code",
      "source": [
        "user =input (\"Digite su usuario: \")\n",
        "use=\"Knela1301\"\n",
        "\n",
        "if user == use:\n",
        "  print (\"Usuario CORRECTO!!\")\n",
        "else:\n",
        "  print (\"Usuario INCORRECTO :(\")"
      ],
      "metadata": {
        "colab": {
          "base_uri": "https://localhost:8080/"
        },
        "id": "HGGoDCSLAxav",
        "outputId": "aed36937-1b60-4586-f7b2-7d355006ef08"
      },
      "execution_count": 7,
      "outputs": [
        {
          "output_type": "stream",
          "name": "stdout",
          "text": [
            "Digite su usuario: Knela1301\n",
            "Usuario CORRECTO!!\n"
          ]
        }
      ]
    },
    {
      "cell_type": "code",
      "source": [
        "word = input (\"Digite la palabra: \")\n",
        "\n",
        "if word in \"Knela Maria\":\n",
        "    print (\"Verdadero\")\n",
        "else:\n",
        "  print (\"Falso\")"
      ],
      "metadata": {
        "colab": {
          "base_uri": "https://localhost:8080/"
        },
        "id": "hKjZi_QzCr88",
        "outputId": "bbf2b423-432a-4252-a0df-1a4c84f33cf4"
      },
      "execution_count": 12,
      "outputs": [
        {
          "output_type": "stream",
          "name": "stdout",
          "text": [
            "Digite la palabra: KAnela\n",
            "Falso\n"
          ]
        }
      ]
    },
    {
      "cell_type": "code",
      "source": [
        "range = input (\"Digite la clave: \")\n",
        "\n",
        "if range in \"1234, 5678,9012\":\n",
        "    print (\"Verdadero\")\n",
        "else:\n",
        "  print (\"Falso\")"
      ],
      "metadata": {
        "colab": {
          "base_uri": "https://localhost:8080/"
        },
        "id": "EcwCywbqGpVW",
        "outputId": "095acd88-2eb3-4a60-c513-c4ed2c319ad0"
      },
      "execution_count": 15,
      "outputs": [
        {
          "output_type": "stream",
          "name": "stdout",
          "text": [
            "Digite la clave: 9012\n",
            "Verdadero\n"
          ]
        }
      ]
    },
    {
      "cell_type": "markdown",
      "source": [
        "Se necesita un sistema para un supermercado, el cual dará un 10% de descuento a las personas que compren más de $1.000.000 de lo contrario no dará ningún descuento, al cliente se le debe de dar el total a pagar. Condicional."
      ],
      "metadata": {
        "id": "d1INWYgAHsPc"
      }
    },
    {
      "cell_type": "code",
      "source": [
        "venta =float(input (\"Digite el total de la venta: $ \" ))\n",
        "\n",
        "if venta > 1000000:\n",
        "  desc = venta*0.10\n",
        "  total = venta - desc\n",
        "  print (\"El descuento es de {:,.0f} y el total a pagar es  {:,.0f}\".format (desc,total))\n",
        "else:\n",
        "  print (\"No aplica descuento, el valor a pagar es ${:,.0f}\".format (venta))"
      ],
      "metadata": {
        "colab": {
          "base_uri": "https://localhost:8080/"
        },
        "id": "LcLF9qnTHrUc",
        "outputId": "2fd3c266-44ec-4829-bb8a-97c32ebb833f"
      },
      "execution_count": 17,
      "outputs": [
        {
          "output_type": "stream",
          "name": "stdout",
          "text": [
            "Digite el total de la venta: $ 1345000\n",
            "El descuento es de 134,500 y el total a pagar es  1,210,500\n"
          ]
        }
      ]
    },
    {
      "cell_type": "markdown",
      "source": [
        "Se necesita un sistema que reciba tres calificaciones parciales de un alumno y en base a estas darle su promedio donde si el promedio es menor a 3.0 se le dirá que esta reprobado, en caso contrario el mensaje será aprobado. Condicional."
      ],
      "metadata": {
        "id": "9lykY2hBIEXI"
      }
    },
    {
      "cell_type": "code",
      "source": [
        "not1 = float(input(\"Digite la calificación 1: \"))\n",
        "not2 = float(input(\"Digite la calificación 2: \"))\n",
        "not3 = float(input(\"Digite la calificación 3: \"))\n",
        "\n",
        "prom = round( (not1 +not2 + not3)/3,  2)\n",
        "\n",
        "if prom>3.0:\n",
        "  estado =\"APROBADO\"\n",
        "else:\n",
        "  estado=\"REPROBADO\"\n",
        "  \n",
        "print(f\"El promedio es {prom} y el estado es {estado}\")"
      ],
      "metadata": {
        "colab": {
          "base_uri": "https://localhost:8080/"
        },
        "id": "YlWW1sQBIKbY",
        "outputId": "1175f3b0-f286-4f7a-a2c5-613d7f3b610f"
      },
      "execution_count": 20,
      "outputs": [
        {
          "output_type": "stream",
          "name": "stdout",
          "text": [
            "Digite la calificación 1: 4.3\n",
            "Digite la calificación 2: 3.5\n",
            "Digite la calificación 3: 0.1\n",
            "El promedio es 2.63 y el estado es REPROBADO\n"
          ]
        }
      ]
    },
    {
      "cell_type": "markdown",
      "source": [
        "# **TALLER #3**\n",
        "\n",
        "\n",
        "Dando continuidad con la primera entrega del proyecto, en esta oportunidad el estudiante debe realizar las siguientes validaciones utilizando la sentencia condicional IF.\n",
        "\n",
        "\n",
        "1. Si el empleado es mayor de 55 años disfrutará de un bono de prepensión correspondiente al 5% de su sueldo básico.\n",
        "\n",
        "2. Si el empleado es casado y tiene hijos se le otorgará un paseo cada diciembre\n",
        "\n",
        "3. Si el sueldo básico está entre 1000000 y 1500000 tendrá una comisión del 2% sobre el valor del sueldo; Si el sueldo básico está entre 1500001 y 2000000 tendrá una comisión del 5% sobre el valor del sueldo; para todos los demás casos no habrá comisión.\n",
        "\n",
        "4. Si el empleado trabajó más de 20 días al mes y su sueldo es menor a 1000000 tendrá derecho a un bono de alimentación."
      ],
      "metadata": {
        "id": "5SERYSj82cLQ"
      }
    },
    {
      "cell_type": "code",
      "source": [
        "salary =int(input (\"Digite su salario: $\"))\n",
        "age = int( input (\"Digite su edad: \"))\n",
        "daysT = int( input (\"¿Cuántos días trabajo? \"))\n",
        "\n",
        "if age >= 55:\n",
        "  bono= (salary*0.05)\n",
        "  print (\"Su salario es {:,.0f} y su bono prepensión es de {:,.0f}\" .format(salary,bono))\n",
        "else:\n",
        "  print (\"No cumple con las condiciones para el bono\")\n",
        "\n",
        "if salary>=1000000 and salary <=1500000:\n",
        "  comision=salary*0.02\n",
        "  print (\"Su salario es {:,.0f} y su comisión es de {:,.0f}\" .format(salary,comision))\n",
        "elif salary>= 1500001 and salary<=2000000:\n",
        "  comision=salary*0.05\n",
        "  print (\"Su salario es {:,.0f} y su comisión es de {:,.0f}\" .format(salary,comision))\n",
        "elif (salary<1000000 and daysT>=20): \n",
        "    print (\"No aplica para comisión pero tiene derecho a bono de alimentación\")\n",
        "else:\n",
        "   print (\"No aplica para comisión ni tiene derecho a bono de alimentación\")\n"
      ],
      "metadata": {
        "id": "YcZ8Shaq2ihU",
        "colab": {
          "base_uri": "https://localhost:8080/"
        },
        "outputId": "9cd97d59-4cc1-4a6b-99c6-32b6f621cefd"
      },
      "execution_count": 41,
      "outputs": [
        {
          "output_type": "stream",
          "name": "stdout",
          "text": [
            "Digite su salario: $3450000\n",
            "Digite su edad: 56\n",
            "¿Cuántos días trabajo? 15\n",
            "Su salario es 3,450,000 y su bono prepensión es de 172,500\n",
            "No aplica para comisión ni tiene derecho a bono de alimentación\n"
          ]
        }
      ]
    },
    {
      "cell_type": "code",
      "source": [
        "estacivil = input (\"Es casad@?: \")\n",
        "num_hijos = int( input (\"Cuántos hijos tiene?: \"))\n",
        "\n",
        "if estacivil ==\"SI\" or estacivil == \"si\"  and  num_hijos>0:\n",
        "    premio=\"Se otorga paseo en Diciembre\"\n",
        "    print (premio)\n",
        "else:\n",
        "    print (\"Gracias por la información\")"
      ],
      "metadata": {
        "colab": {
          "base_uri": "https://localhost:8080/"
        },
        "id": "7pR1E_6xMkDX",
        "outputId": "1dd00331-2b98-43b5-ac03-fa192fd97f95"
      },
      "execution_count": 32,
      "outputs": [
        {
          "output_type": "stream",
          "name": "stdout",
          "text": [
            "Es casad@?: si\n",
            "Cuántos hijos tiene?: 0\n",
            "Gracias por la información\n"
          ]
        }
      ]
    }
  ]
}